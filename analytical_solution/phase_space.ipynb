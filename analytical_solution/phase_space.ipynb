{
 "cells": [
  {
   "cell_type": "code",
   "execution_count": null,
   "metadata": {},
   "outputs": [],
   "source": [
    "import numpy as np\n",
    "import matplotlib.pyplot as plt\n",
    "\n",
    "t = np.linspace(0, 100, 5000)\n",
    "u1 = 0.5 * (np.cos(t) + np.cos(np.sqrt(3)*t))\n",
    "u2 = 0.5 * (np.cos(t) - np.cos(np.sqrt(3)*t))\n",
    "v1 = 0.5 * (-np.sin(t) - np.sqrt(3) * np.sin(np.sqrt(3)*t))\n",
    "v2 = 0.5 * (-np.sin(t) + np.sqrt(3) * np.sin(np.sqrt(3)*t))\n",
    "\n",
    "plt.plot(u1, v1)\n",
    "plt.title(r\"Phase space representation: $k_{12}=1$\")\n",
    "plt.xlabel(r\"$u_1$\")\n",
    "plt.ylabel(r\"$v_1$\")\n",
    "plt.savefig(\"phase_space_1.png\", dpi=150, bbox_inches=\"tight\")"
   ]
  },
  {
   "cell_type": "code",
   "execution_count": null,
   "metadata": {},
   "outputs": [],
   "source": [
    "u1 = 0.5 * (np.cos(3 * t) + np.cos(t))\n",
    "v1 = 0.5 * (-3*np.sin(3 * t) - np.sin(t))\n",
    "u2 = 0.5 * (-np.cos(3 * t) + np.cos(t))\n",
    "v2 = 0.5 * (3*np.sin(3 * t) - np.sin(t))\n",
    "\n",
    "plt.plot(u1, v1)\n",
    "plt.title(r\"Phase space representation: $k_{12}=4$\")\n",
    "plt.xlabel(r\"$u_1$\")\n",
    "plt.ylabel(r\"$v_1$\")\n",
    "plt.savefig(\"phase_space_4.png\", dpi=150, bbox_inches=\"tight\")"
   ]
  }
 ],
 "metadata": {
  "interpreter": {
   "hash": "8333b712dcaa7257aebeba18549feab29f74a939f7aa0dcceb23c8d63a39c177"
  },
  "kernelspec": {
   "display_name": "Python 3.9.7 ('sandbox')",
   "language": "python",
   "name": "python3"
  },
  "language_info": {
   "codemirror_mode": {
    "name": "ipython",
    "version": 3
   },
   "file_extension": ".py",
   "mimetype": "text/x-python",
   "name": "python",
   "nbconvert_exporter": "python",
   "pygments_lexer": "ipython3",
   "version": "3.9.7"
  },
  "orig_nbformat": 4
 },
 "nbformat": 4,
 "nbformat_minor": 2
}
